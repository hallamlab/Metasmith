{
 "cells": [
  {
   "cell_type": "code",
   "execution_count": 1,
   "metadata": {},
   "outputs": [],
   "source": [
    "from pathlib import Path\n",
    "from metasmith.agents.presets import Agent\n",
    "from metasmith.models.libraries import *\n",
    "from metasmith.models.remote import *\n",
    "\n",
    "from local.constants import WORKSPACE_ROOT"
   ]
  },
  {
   "cell_type": "code",
   "execution_count": 2,
   "metadata": {},
   "outputs": [
    {
     "name": "stdout",
     "output_type": "stream",
     "text": [
      "2025-03-09_22-12-41  | /home/tony/workspace/tools/Metasmith/main/local_mock/cache/local_home\n",
      "2025-03-09_22-12-41  | /home/tony\n",
      "2025-03-09_22-12-41  | >>> mkdir -p /home/tony/workspace/tools/Metasmith/main/local_mock/cache/local_home\n",
      "2025-03-09_22-12-41  | >>> mkdir -p /home/tony/.globus\n",
      "2025-03-09_22-12-41  | >>> mkdir -p /home/tony/.globusonline\n",
      "2025-03-09_22-12-42  | >>> [ -e /home/tony/workspace/tools/Metasmith/main/local_mock/cache/local_home/metasmith.sif ] || apptainer pull /home/tony/workspace/tools/Metasmith/main/local_mock/cache/local_home/metasmith.sif docker://quay.io/hallamlab/metasmith:latest\n",
      "2025-03-09_22-12-42  | >>> deploying file [/home/tony/workspace/tools/Metasmith/main/local_mock/cache/local_home/msm_stub]\n",
      "2025-03-09_22-12-42  | >>> deploying file [/home/tony/workspace/tools/Metasmith/main/local_mock/cache/local_home/msm]\n",
      "2025-03-09_22-12-42  | >>> cd /home/tony/workspace/tools/Metasmith/main/local_mock/cache/local_home && ./msm api deploy_from_container\n",
      "2025-03-09_22-12-42  | including dev binds\n",
      "2025-03-09_22-12-43  | 2025-03-09_22-12-43  | api call to [deploy_from_container] with [{}]\n",
      "2025-03-09_22-12-43  | 2025-03-09_22-12-43  | deploying relay server\n",
      "2025-03-09_22-12-43  | 2025-03-09_22-12-43  | deploying nextflow executable\n",
      "2025-03-09_22-12-43  | 2025-03-09_22-12-43  | deployment complete\n",
      "2025-03-09_22-12-44  | >>> exit\n",
      "2025-03-09_22-12-44  | >>> deploying file [/home/tony/workspace/tools/Metasmith/main/local_mock/cache/local_home/lib/agent.yml]\n",
      "2025-03-09_22-12-44  | >>> deploying file [/home/tony/workspace/tools/Metasmith/main/local_mock/cache/local_home/lib/msm_bootstrap]\n",
      "2025-03-09_22-12-45  | >>> deploying file [/home/tony/workspace/tools/Metasmith/main/local_mock/cache/local_home/lib/nextflow_config]\n"
     ]
    }
   ],
   "source": [
    "agent = Agent(\n",
    "    setup_commands=[],\n",
    "    cleanup_commands=[],\n",
    "    home=Source.FromLocal(WORKSPACE_ROOT/\"main/local_mock/cache/local_home\"),\n",
    ")\n",
    "\n",
    "agent.Deploy()"
   ]
  },
  {
   "cell_type": "code",
   "execution_count": 3,
   "metadata": {},
   "outputs": [
    {
     "name": "stdout",
     "output_type": "stream",
     "text": [
      "<{data:DNA sequence,format:FASTA}:4M4PqXwA>\n",
      "<{data:software container,format:OCI,provides:diamond}:iGL288Xm>\n",
      "<{data:software container,format:OCI,provides:pprodigal}:90LdbjQO>\n",
      "<{data:Protein features,format:CSV}:kImyYZjD>\n",
      "<{data:Amino acid sequence,format:FASTA}:oF3YSVYQ>\n",
      "<{data:database reference,format:.dmnd}:VpPqsgy1>\n"
     ]
    }
   ],
   "source": [
    "CACHE = WORKSPACE_ROOT/\"main/local_mock/cache/xgdb_tests\"\n",
    "types = DataTypeLibrary.Load(WORKSPACE_ROOT/\"main/local_mock/prototypes/metagenomics.dev3.yml\")\n",
    "for name, t in types:\n",
    "    print(t)"
   ]
  },
  {
   "cell_type": "code",
   "execution_count": 4,
   "metadata": {},
   "outputs": [
    {
     "name": "stdout",
     "output_type": "stream",
     "text": [
      "transforms::transform TransformInstance(protocol=<function protocol at 0x7fb4bf1f65c0>, model={{\"data\":\"software container\"}-{\"format\":\"OCI\"}-{\"provides\":\"diamond\"}},{{\"data\":\"Amino acid sequence\"}-{\"format\":\"FASTA\"}},{{\"data\":\"database reference\"}-{\"format\":\".dmnd\"}}->{{\"data\":\"Protein features\"}-{\"format\":\"CSV\"}}, output_signature={(D:{\"data\":\"Protein features\"}-{\"format\":\"CSV\"}): PosixPath('annotations.csv')}, name='diamond')\n",
      "transforms::transform TransformInstance(protocol=<function protocol at 0x7fb4b4dc6d40>, model={{\"data\":\"software container\"}-{\"format\":\"OCI\"}-{\"provides\":\"pprodigal\"}},{{\"data\":\"DNA sequence\"}-{\"format\":\"FASTA\"}}->{{\"data\":\"Amino acid sequence\"}-{\"format\":\"FASTA\"}}, output_signature={(D:{\"data\":\"Amino acid sequence\"}-{\"format\":\"FASTA\"}): PosixPath('orfs.faa')}, name='pprodigal')\n"
     ]
    }
   ],
   "source": [
    "trlib = TransformInstanceLibrary.Load(\"./transforms/simple_1\")\n",
    "for path, name, tr in trlib.IterateTransforms():\n",
    "    print(name, tr)"
   ]
  },
  {
   "cell_type": "code",
   "execution_count": 5,
   "metadata": {},
   "outputs": [
    {
     "name": "stdout",
     "output_type": "stream",
     "text": [
      "metagenomics::contigs <{data:DNA sequence,format:FASTA}:4M4PqXwA>\n",
      "\n",
      "metagenomics::oci_image_diamond <{data:software container,format:OCI,provides:diamond}:iGL288Xm>\n",
      "metagenomics::oci_image_pprodigal <{data:software container,format:OCI,provides:pprodigal}:90LdbjQO>\n",
      "metagenomics::protein_reference_diamond <{data:database reference,format:.dmnd}:VpPqsgy1>\n"
     ]
    }
   ],
   "source": [
    "xgdb_path = CACHE/\"test.xgdb\"\n",
    "refdb_path = CACHE/\"ref.xgdb\"\n",
    "\n",
    "xgdb = DataInstanceLibrary.Load(xgdb_path)\n",
    "for path, name, data in xgdb.Iterate():\n",
    "    print(name, data)\n",
    "print()\n",
    "refdb = DataInstanceLibrary.Load(refdb_path)\n",
    "for path, name, data in refdb.Iterate():\n",
    "    print(name, data)"
   ]
  },
  {
   "cell_type": "code",
   "execution_count": 6,
   "metadata": {},
   "outputs": [
    {
     "name": "stdout",
     "output_type": "stream",
     "text": [
      "metagenomics::orfs_faa\n",
      "metagenomics::orf_annotations\n",
      "pprodigal\n",
      "    (D:{\"data\":\"software container\"}-{\"format\":\"OCI\"}-{\"provides\":\"pprodigal\"})\n",
      "    (D:{\"data\":\"DNA sequence\"}-{\"format\":\"FASTA\"})\n",
      "    v\n",
      "    (D:{\"data\":\"Amino acid sequence\"}-{\"format\":\"FASTA\"})\n",
      "diamond\n",
      "    (D:{\"data\":\"software container\"}-{\"format\":\"OCI\"}-{\"provides\":\"diamond\"})\n",
      "    (D:{\"data\":\"Amino acid sequence\"}-{\"format\":\"FASTA\"})\n",
      "    (D:{\"data\":\"database reference\"}-{\"format\":\".dmnd\"})\n",
      "    v\n",
      "    (D:{\"data\":\"Protein features\"}-{\"format\":\"CSV\"})\n"
     ]
    }
   ],
   "source": [
    "from metasmith.models.workflow import WorkflowPlan, WorkflowTask\n",
    "\n",
    "plan = WorkflowPlan.Generate(\n",
    "    given=[xgdb, refdb],\n",
    "    transforms=[trlib],\n",
    "    targets=[\n",
    "        types[\"orf_annotations\"].WithLineage([\n",
    "            types[\"contigs\"],\n",
    "            # xgdb[\"example.fna\"].type,\n",
    "        ]),\n",
    "    ],\n",
    ")\n",
    "\n",
    "for step in plan.steps:\n",
    "    step_path = Path(step.transform.name)\n",
    "    model = step.transform.model\n",
    "    print(f\"{step_path.stem}\")\n",
    "    for x in model.requires:\n",
    "        print(f\"    {x}\")\n",
    "    print(\"    v\")\n",
    "    for x in model.produces:\n",
    "        print(f\"    {x}\")\n",
    "    # print([f\"{x.source}\" for x in step.uses], [f\"{x.source}\" for x in step.produces], sep=\"->\")\n",
    "    # LinkifyPath(step.transform._source.address)"
   ]
  },
  {
   "cell_type": "code",
   "execution_count": 7,
   "metadata": {},
   "outputs": [],
   "source": [
    "with open(WORKSPACE_ROOT/\"secrets/slurm_account\") as f:\n",
    "    slurm_account = f.read().strip()\n",
    "\n",
    "local_task_path = WORKSPACE_ROOT/\"main/local_mock/cache/xgdb_tests/task\"\n",
    "\n",
    "# send task & plan\n",
    "task = WorkflowTask(\n",
    "    plan=plan,\n",
    "    agent=agent,\n",
    "    data_libraries=[xgdb, refdb],\n",
    "    transform_libraries=[trlib],\n",
    "    config=dict(\n",
    "        nextflow=dict(\n",
    "            preset=\"default\",\n",
    "            # slurm_account=slurm_account,\n",
    "        ),\n",
    "    ),\n",
    ")\n",
    "# task.SaveAs(Source.FromLocal(local_task_path))"
   ]
  },
  {
   "cell_type": "code",
   "execution_count": 8,
   "metadata": {},
   "outputs": [],
   "source": [
    "local_task = WorkflowTask.Load(local_task_path)"
   ]
  },
  {
   "cell_type": "code",
   "execution_count": 9,
   "metadata": {},
   "outputs": [
    {
     "data": {
      "text/plain": [
       "'0zGGH'"
      ]
     },
     "execution_count": 9,
     "metadata": {},
     "output_type": "execute_result"
    }
   ],
   "source": [
    "task.plan._key"
   ]
  },
  {
   "cell_type": "code",
   "execution_count": 10,
   "metadata": {},
   "outputs": [],
   "source": [
    "remote_cache = agent.home.GetPath()/f\"tmp/{plan._key}\"\n",
    "# res = task.SaveAs(agent.home.WithPath(remote_cache))\n",
    "# res.completed"
   ]
  },
  {
   "cell_type": "code",
   "execution_count": 11,
   "metadata": {},
   "outputs": [
    {
     "name": "stdout",
     "output_type": "stream",
     "text": [
      "2025-03-09_22-12-50  | making destination cache at [/home/tony/workspace/tools/Metasmith/main/local_mock/cache/local_home/tmp/0zGGH]\n",
      "2025-03-09_22-12-50  | starting relay service\n",
      "R| 2025-03-09_22-12-51  | relay server started with pid: [87325]\u001b[0;m\n",
      "2025-03-09_22-12-52  | calling stage\n",
      "R| including dev binds\u001b[0;m\n",
      "R| 2025-03-09_22-12-53  | api call to [stage_workflow] with [{'task_dir': '/home/tony/workspace/tools/Metasmith/main/local_mock/cache/local_home/tmp/0zGGH', 'force': 'True'}]\u001b[0;m\n",
      "R| 2025-03-09_22-12-53  | staging workflow [0zGGH] with [4] given data instances\u001b[0;m\n",
      "R| 2025-03-09_22-12-53  | already staged at [/ws/runs/0zGGH]\u001b[0;m\n",
      "R| 2025-03-09_22-12-53  | removing previous\u001b[0;m\n",
      "R| 2025-03-09_22-12-53  | ex| /home/tony/workspace/tools/Metasmith/main/local_mock/cache/local_home\u001b[0;m\n",
      "R| 2025-03-09_22-12-53  | work [/ws/runs/0zGGH]\u001b[0;m\n",
      "R| 2025-03-09_22-12-53  | data [/ws/data]\u001b[0;m\n",
      "R| 2025-03-09_22-12-53  | external work [/home/tony/workspace/tools/Metasmith/main/local_mock/cache/local_home/runs/0zGGH]\u001b[0;m\n",
      "R| 2025-03-09_22-12-53  | external data [/home/tony/workspace/tools/Metasmith/main/local_mock/cache/local_home/data]\u001b[0;m\n",
      "R| 2025-03-09_22-12-56  | additional params:\u001b[0;m\n",
      "R| 2025-03-09_22-12-56  |     nextflow:\u001b[0;m\n",
      "R| 2025-03-09_22-12-56  |       preset: default\u001b[0;m\n",
      "R| 2025-03-09_22-12-56  |     \u001b[0;m\n",
      "R| 2025-03-09_22-12-56  | [0zGGH] staged to [/ws/runs/0zGGH]\u001b[0;m\n",
      "2025-03-09_22-12-56  | calling execute\n",
      "R| including dev binds\u001b[0;m\n",
      "R| 2025-03-09_22-12-57  | api call to [execute_workflow] with [{'key': '0zGGH'}]\u001b[0;m\n",
      "R| 2025-03-09_22-12-57  | executing workflow [0zGGH] with [2] steps\u001b[0;m\n",
      "R| 2025-03-09_22-12-57  | connecting to relay for external shell\u001b[0;m\n",
      "R| 2025-03-09_22-12-58  | calling nextflow via relay\u001b[0;m\n",
      "\u001b[K\u001b[0;m03-09_22-13-00  | Downloading nextflow dependencies. It may require a few seconds, please wait .. \n",
      "R| 2025-03-09_22-13-00  | \u001b[1m\u001b[38;5;232m\u001b[48;5;43m N E X T F L O W \u001b[0;2m  ~  \u001b[mversion 24.10.5\u001b[m\u001b[0;m\n",
      "R| 2025-03-09_22-13-00  | \u001b[K\u001b[0;m\n",
      "R| 2025-03-09_22-13-01  | WARN: It appears you have never run this project before -- Option `-resume` is ignored\u001b[0;m\n",
      "R| 2025-03-09_22-13-01  | Launching\u001b[35m `./workflow.nf` \u001b[0;2m[\u001b[0;1;36mnasty_yalow\u001b[0;2m] DSL2 - \u001b[36mrevision: \u001b[0;36mcc507e0358\u001b[m\u001b[0;m\n",
      "R| 2025-03-09_22-13-01  | \u001b[K\u001b[0;m\n",
      "R| 2025-03-09_22-13-02  | \u001b[3;2mPlus \u001b[1m2\u001b[0;3;2m more processes waiting for tasks…\u001b[m\u001b[K\u001b[0;m\n",
      "R| 2025-03-09_22-13-02  | \u001b[2A\u001b[0;m\n",
      "R| 2025-03-09_22-13-02  | \u001b[2mexecutor >  local (1)\u001b[m\u001b[K\u001b[0;m\n",
      "R| 2025-03-09_22-13-02  | \u001b[2m[\u001b[0;34mac/679575\u001b[0;2m] \u001b[0;2m\u001b[mpprod\u001b[2m |\u001b[m 0 of 1\u001b[K\u001b[0;m\n",
      "R| 2025-03-09_22-13-02  | \u001b[3;2mPlus \u001b[1m1\u001b[0;3;2m more processes waiting for tasks…\u001b[m\u001b[K\u001b[0;m\n",
      "R| 2025-03-09_22-13-10  | \u001b[4A\u001b[0;m\n",
      "R| 2025-03-09_22-13-10  | \u001b[2mexecutor >  local (2)\u001b[m\u001b[K\u001b[0;m\n",
      "R| 2025-03-09_22-13-10  | \u001b[2m[\u001b[0;34mac/679575\u001b[0;2m] \u001b[0;2m\u001b[mpprod\u001b[2m |\u001b[m 1 of 1\u001b[32m ✔\u001b[m\u001b[K\u001b[0;m\n",
      "R| 2025-03-09_22-13-10  | \u001b[2m[\u001b[0;34mdc/9b17cd\u001b[0;2m] \u001b[0;2m\u001b[mdiamo\u001b[2m |\u001b[m 0 of 1\u001b[K\u001b[0;m\n",
      "R| 2025-03-09_22-13-18  | \u001b[4A\u001b[0;m\n",
      "R| 2025-03-09_22-13-18  | \u001b[2mexecutor >  local (2)\u001b[m\u001b[K\u001b[0;m\n",
      "R| 2025-03-09_22-13-18  | \u001b[2m[\u001b[0;34mac/679575\u001b[0;2m] \u001b[0;2m\u001b[mpprod\u001b[2m |\u001b[m 1 of 1\u001b[32m ✔\u001b[m\u001b[K\u001b[0;m\n",
      "R| 2025-03-09_22-13-18  | \u001b[2m[\u001b[0;34mdc/9b17cd\u001b[0;2m] \u001b[0;2m\u001b[mdiamo\u001b[2m |\u001b[m 0 of 1\u001b[32m ✔\u001b[m\u001b[K\u001b[0;m\n",
      "R| 2025-03-09_22-13-18  | \u001b[4A\u001b[0;m\n",
      "R| 2025-03-09_22-13-18  | \u001b[2mexecutor >  local (2)\u001b[m\u001b[K\u001b[0;m\n",
      "R| 2025-03-09_22-13-18  | \u001b[2m[\u001b[0;34mac/679575\u001b[0;2m] \u001b[0;2m\u001b[mpprod\u001b[2m |\u001b[m 1 of 1\u001b[32m ✔\u001b[m\u001b[K\u001b[0;m\n",
      "R| 2025-03-09_22-13-18  | \u001b[2m[\u001b[0;34mdc/9b17cd\u001b[0;2m] \u001b[0;2m\u001b[mdiamo\u001b[2m |\u001b[m 1 of 1\u001b[32m ✔\u001b[m\u001b[K\u001b[0;m\n",
      "R| 2025-03-09_22-13-18  | \u001b[0;m\n"
     ]
    }
   ],
   "source": [
    "local_temp = Path(\"./cache/mock_temp/\")\n",
    "with LiveShell() as sh_local, LiveShell() as sh_remote:\n",
    "    local_temp = Path(local_temp)\n",
    "    sh_local.RegisterOnOut(lambda x: Log.Info(f\"{x}\"))\n",
    "    sh_local.RegisterOnErr(lambda x: Log.Error(f\"{x}\"))\n",
    "    sh_remote.RegisterOnOut(lambda x: print(f\"R| {x}\\x1b[0;m\"))\n",
    "    sh_remote.RegisterOnErr(lambda x: print(f\"E| {x}\"))\n",
    "    # remote_cache = Path(f\"/tmp/metasmith.{plan._key}\")\n",
    "\n",
    "    # connect and prepare remote\n",
    "    agent.RunSetup(sh_remote)\n",
    "    Log.Info(f\"making destination cache at [{remote_cache}]\")\n",
    "    # sh_remote.Exec(f\"[ -e {remote_cache} ] && rm -rf {remote_cache}\")\n",
    "    sh_remote.Exec(f\"mkdir -p {remote_cache} && cd {agent.home.GetPath()}\")\n",
    "    Log.Info(f\"starting relay service\")\n",
    "    sh_remote.Exec(f\"./relay/msm_relay start\")\n",
    "    \n",
    "    Log.Info(f\"calling stage\")\n",
    "    sh_remote.Exec(f'./msm api stage_workflow -a task_dir={remote_cache} -a force=True') # this is ok because /tmp is mounted\n",
    "    Log.Info(f\"calling execute\")\n",
    "    sh_remote.Exec(f'./msm api execute_workflow -a key={plan._key}')\n",
    "\n",
    "    # sh_remote.Exec(f\"rm -rf {remote_cache}\")\n",
    "    # sh_remote.Exec(f\"{agent.home}/relay/msm_relay stop\")\n",
    "    agent.RunCleanup(sh_remote)"
   ]
  }
 ],
 "metadata": {
  "kernelspec": {
   "display_name": "msm",
   "language": "python",
   "name": "python3"
  },
  "language_info": {
   "codemirror_mode": {
    "name": "ipython",
    "version": 3
   },
   "file_extension": ".py",
   "mimetype": "text/x-python",
   "name": "python",
   "nbconvert_exporter": "python",
   "pygments_lexer": "ipython3",
   "version": "3.12.8"
  }
 },
 "nbformat": 4,
 "nbformat_minor": 2
}
