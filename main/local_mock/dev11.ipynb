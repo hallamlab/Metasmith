{
 "cells": [
  {
   "cell_type": "code",
   "execution_count": null,
   "metadata": {},
   "outputs": [],
   "source": [
    "from pathlib import Path\n",
    "from metasmith.agents.presets import Agent, AGENT_SETUP_COMPLETE\n",
    "from metasmith.models.libraries import *\n",
    "from metasmith.models.remote import *\n",
    "\n",
    "from local.constants import WORKSPACE_ROOT"
   ]
  },
  {
   "cell_type": "code",
   "execution_count": null,
   "metadata": {},
   "outputs": [],
   "source": [
    "agent = Agent(\n",
    "    setup_commands=[],\n",
    "    cleanup_commands=[],\n",
    "    home=Source.FromLocal(WORKSPACE_ROOT/\"main/local_mock/cache/local_home\"),\n",
    ")"
   ]
  }
 ],
 "metadata": {
  "kernelspec": {
   "display_name": "msm",
   "language": "python",
   "name": "python3"
  },
  "language_info": {
   "name": "python",
   "version": "3.12.8"
  }
 },
 "nbformat": 4,
 "nbformat_minor": 2
}
